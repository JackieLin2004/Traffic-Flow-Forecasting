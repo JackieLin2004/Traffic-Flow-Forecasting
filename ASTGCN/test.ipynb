{
 "cells": [
  {
   "cell_type": "code",
   "id": "initial_id",
   "metadata": {
    "collapsed": true,
    "ExecuteTime": {
     "end_time": "2024-12-10T17:28:11.862651Z",
     "start_time": "2024-12-10T17:28:11.344642Z"
    }
   },
   "source": [
    "import numpy as np\n",
    "\n",
    "data = np.load('./data/PEMS04/PEMS04.npz')\n",
    "data['data']"
   ],
   "outputs": [
    {
     "data": {
      "text/plain": [
       "array([[[6.20e+01, 7.70e-03, 6.79e+01],\n",
       "        [5.60e+01, 1.12e-02, 6.84e+01],\n",
       "        [9.00e+01, 1.43e-02, 6.82e+01],\n",
       "        ...,\n",
       "        [5.60e+01, 9.80e-03, 6.74e+01],\n",
       "        [4.80e+01, 7.80e-03, 6.95e+01],\n",
       "        [3.80e+01, 9.40e-03, 6.82e+01]],\n",
       "\n",
       "       [[6.10e+01, 7.40e-03, 6.73e+01],\n",
       "        [4.00e+01, 8.00e-03, 6.86e+01],\n",
       "        [9.40e+01, 1.56e-02, 6.78e+01],\n",
       "        ...,\n",
       "        [5.10e+01, 9.40e-03, 6.60e+01],\n",
       "        [3.00e+01, 5.00e-03, 6.91e+01],\n",
       "        [3.50e+01, 8.50e-03, 6.88e+01]],\n",
       "\n",
       "       [[7.10e+01, 9.30e-03, 6.84e+01],\n",
       "        [2.80e+01, 6.80e-03, 6.74e+01],\n",
       "        [7.90e+01, 1.22e-02, 6.87e+01],\n",
       "        ...,\n",
       "        [6.70e+01, 1.17e-02, 6.67e+01],\n",
       "        [3.10e+01, 5.30e-03, 6.88e+01],\n",
       "        [4.50e+01, 1.11e-02, 6.95e+01]],\n",
       "\n",
       "       ...,\n",
       "\n",
       "       [[6.60e+01, 8.90e-03, 6.78e+01],\n",
       "        [7.60e+01, 1.58e-02, 6.59e+01],\n",
       "        [7.70e+01, 1.82e-02, 6.40e+01],\n",
       "        ...,\n",
       "        [8.50e+01, 1.45e-02, 6.73e+01],\n",
       "        [5.80e+01, 1.00e-02, 6.93e+01],\n",
       "        [5.70e+01, 1.66e-02, 6.78e+01]],\n",
       "\n",
       "       [[7.70e+01, 1.03e-02, 6.74e+01],\n",
       "        [7.30e+01, 1.66e-02, 6.58e+01],\n",
       "        [9.60e+01, 2.01e-02, 6.31e+01],\n",
       "        ...,\n",
       "        [6.90e+01, 1.20e-02, 6.72e+01],\n",
       "        [5.20e+01, 8.70e-03, 6.93e+01],\n",
       "        [4.30e+01, 1.18e-02, 6.91e+01]],\n",
       "\n",
       "       [[7.40e+01, 9.80e-03, 6.70e+01],\n",
       "        [7.10e+01, 1.66e-02, 6.87e+01],\n",
       "        [6.40e+01, 1.27e-02, 6.52e+01],\n",
       "        ...,\n",
       "        [8.00e+01, 1.40e-02, 6.70e+01],\n",
       "        [7.80e+01, 1.44e-02, 6.96e+01],\n",
       "        [4.00e+01, 1.07e-02, 6.97e+01]]])"
      ]
     },
     "execution_count": 1,
     "metadata": {},
     "output_type": "execute_result"
    }
   ],
   "execution_count": 1
  },
  {
   "metadata": {
    "ExecuteTime": {
     "end_time": "2024-12-10T17:28:12.754106Z",
     "start_time": "2024-12-10T17:28:11.924586Z"
    }
   },
   "cell_type": "code",
   "source": [
    "import pandas as pd\n",
    "import numpy as np\n",
    "\n",
    "df = np.load('./data/PEMS04/PEMS04.npz')\n",
    "df['data'].shape"
   ],
   "id": "e74dbf6a31370cb4",
   "outputs": [
    {
     "data": {
      "text/plain": [
       "(16992, 307, 3)"
      ]
     },
     "execution_count": 2,
     "metadata": {},
     "output_type": "execute_result"
    }
   ],
   "execution_count": 2
  },
  {
   "metadata": {
    "ExecuteTime": {
     "end_time": "2024-12-10T17:28:12.989740Z",
     "start_time": "2024-12-10T17:28:12.975825Z"
    }
   },
   "cell_type": "code",
   "source": "data",
   "id": "db06df971aa3df90",
   "outputs": [
    {
     "data": {
      "text/plain": [
       "<numpy.lib.npyio.NpzFile at 0x2a35d309ee0>"
      ]
     },
     "execution_count": 3,
     "metadata": {},
     "output_type": "execute_result"
    }
   ],
   "execution_count": 3
  },
  {
   "metadata": {
    "ExecuteTime": {
     "end_time": "2024-12-10T17:28:13.021314Z",
     "start_time": "2024-12-10T17:28:13.007741Z"
    }
   },
   "cell_type": "code",
   "source": "df",
   "id": "e1a6c0f97ff9b572",
   "outputs": [
    {
     "data": {
      "text/plain": [
       "<numpy.lib.npyio.NpzFile at 0x2a37b73dd90>"
      ]
     },
     "execution_count": 4,
     "metadata": {},
     "output_type": "execute_result"
    }
   ],
   "execution_count": 4
  },
  {
   "metadata": {
    "ExecuteTime": {
     "end_time": "2024-12-10T17:28:14.064276Z",
     "start_time": "2024-12-10T17:28:13.039342Z"
    }
   },
   "cell_type": "code",
   "source": [
    "print(data['data'][0][0][0])\n",
    "print(data['data'][0][0][1])\n",
    "print(data['data'][0][0][2])"
   ],
   "id": "b4ddda0de29736de",
   "outputs": [
    {
     "name": "stdout",
     "output_type": "stream",
     "text": [
      "62.0\n",
      "0.0077\n",
      "67.9\n"
     ]
    }
   ],
   "execution_count": 5
  }
 ],
 "metadata": {
  "kernelspec": {
   "display_name": "Python 3",
   "language": "python",
   "name": "python3"
  },
  "language_info": {
   "codemirror_mode": {
    "name": "ipython",
    "version": 2
   },
   "file_extension": ".py",
   "mimetype": "text/x-python",
   "name": "python",
   "nbconvert_exporter": "python",
   "pygments_lexer": "ipython2",
   "version": "2.7.6"
  }
 },
 "nbformat": 4,
 "nbformat_minor": 5
}
