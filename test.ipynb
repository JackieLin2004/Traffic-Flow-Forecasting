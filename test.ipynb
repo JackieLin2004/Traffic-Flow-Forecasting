{
 "cells": [
  {
   "cell_type": "code",
   "id": "initial_id",
   "metadata": {
    "collapsed": true,
    "ExecuteTime": {
     "end_time": "2024-12-11T14:28:38.584289Z",
     "start_time": "2024-12-11T14:28:38.014642Z"
    }
   },
   "source": [
    "import numpy as np\n",
    "\n",
    "data = np.load('data/PEMS04/PEMS04.npz')\n",
    "data['data']"
   ],
   "outputs": [
    {
     "data": {
      "text/plain": [
       "array([[[6.20e+01, 7.70e-03, 6.79e+01],\n",
       "        [5.60e+01, 1.12e-02, 6.84e+01],\n",
       "        [9.00e+01, 1.43e-02, 6.82e+01],\n",
       "        ...,\n",
       "        [5.60e+01, 9.80e-03, 6.74e+01],\n",
       "        [4.80e+01, 7.80e-03, 6.95e+01],\n",
       "        [3.80e+01, 9.40e-03, 6.82e+01]],\n",
       "\n",
       "       [[6.10e+01, 7.40e-03, 6.73e+01],\n",
       "        [4.00e+01, 8.00e-03, 6.86e+01],\n",
       "        [9.40e+01, 1.56e-02, 6.78e+01],\n",
       "        ...,\n",
       "        [5.10e+01, 9.40e-03, 6.60e+01],\n",
       "        [3.00e+01, 5.00e-03, 6.91e+01],\n",
       "        [3.50e+01, 8.50e-03, 6.88e+01]],\n",
       "\n",
       "       [[7.10e+01, 9.30e-03, 6.84e+01],\n",
       "        [2.80e+01, 6.80e-03, 6.74e+01],\n",
       "        [7.90e+01, 1.22e-02, 6.87e+01],\n",
       "        ...,\n",
       "        [6.70e+01, 1.17e-02, 6.67e+01],\n",
       "        [3.10e+01, 5.30e-03, 6.88e+01],\n",
       "        [4.50e+01, 1.11e-02, 6.95e+01]],\n",
       "\n",
       "       ...,\n",
       "\n",
       "       [[6.60e+01, 8.90e-03, 6.78e+01],\n",
       "        [7.60e+01, 1.58e-02, 6.59e+01],\n",
       "        [7.70e+01, 1.82e-02, 6.40e+01],\n",
       "        ...,\n",
       "        [8.50e+01, 1.45e-02, 6.73e+01],\n",
       "        [5.80e+01, 1.00e-02, 6.93e+01],\n",
       "        [5.70e+01, 1.66e-02, 6.78e+01]],\n",
       "\n",
       "       [[7.70e+01, 1.03e-02, 6.74e+01],\n",
       "        [7.30e+01, 1.66e-02, 6.58e+01],\n",
       "        [9.60e+01, 2.01e-02, 6.31e+01],\n",
       "        ...,\n",
       "        [6.90e+01, 1.20e-02, 6.72e+01],\n",
       "        [5.20e+01, 8.70e-03, 6.93e+01],\n",
       "        [4.30e+01, 1.18e-02, 6.91e+01]],\n",
       "\n",
       "       [[7.40e+01, 9.80e-03, 6.70e+01],\n",
       "        [7.10e+01, 1.66e-02, 6.87e+01],\n",
       "        [6.40e+01, 1.27e-02, 6.52e+01],\n",
       "        ...,\n",
       "        [8.00e+01, 1.40e-02, 6.70e+01],\n",
       "        [7.80e+01, 1.44e-02, 6.96e+01],\n",
       "        [4.00e+01, 1.07e-02, 6.97e+01]]])"
      ]
     },
     "execution_count": 1,
     "metadata": {},
     "output_type": "execute_result"
    }
   ],
   "execution_count": 1
  },
  {
   "metadata": {
    "ExecuteTime": {
     "end_time": "2024-12-11T14:28:39.607863Z",
     "start_time": "2024-12-11T14:28:38.666205Z"
    }
   },
   "cell_type": "code",
   "source": [
    "import pandas as pd\n",
    "import numpy as np\n",
    "\n",
    "df = np.load('data/PEMS04/PEMS04.npz')\n",
    "df['data'].shape"
   ],
   "id": "e74dbf6a31370cb4",
   "outputs": [
    {
     "data": {
      "text/plain": [
       "(16992, 307, 3)"
      ]
     },
     "execution_count": 2,
     "metadata": {},
     "output_type": "execute_result"
    }
   ],
   "execution_count": 2
  },
  {
   "metadata": {
    "ExecuteTime": {
     "end_time": "2024-12-11T14:28:39.920979Z",
     "start_time": "2024-12-11T14:28:39.907973Z"
    }
   },
   "cell_type": "code",
   "source": "data",
   "id": "db06df971aa3df90",
   "outputs": [
    {
     "data": {
      "text/plain": [
       "<numpy.lib.npyio.NpzFile at 0x1f5aaa19f40>"
      ]
     },
     "execution_count": 3,
     "metadata": {},
     "output_type": "execute_result"
    }
   ],
   "execution_count": 3
  },
  {
   "metadata": {
    "ExecuteTime": {
     "end_time": "2024-12-11T14:28:39.997385Z",
     "start_time": "2024-12-11T14:28:39.990346Z"
    }
   },
   "cell_type": "code",
   "source": "df",
   "id": "e1a6c0f97ff9b572",
   "outputs": [
    {
     "data": {
      "text/plain": [
       "<numpy.lib.npyio.NpzFile at 0x1f5aaa0c2e0>"
      ]
     },
     "execution_count": 4,
     "metadata": {},
     "output_type": "execute_result"
    }
   ],
   "execution_count": 4
  },
  {
   "metadata": {
    "ExecuteTime": {
     "end_time": "2024-12-11T14:28:41.220501Z",
     "start_time": "2024-12-11T14:28:40.079200Z"
    }
   },
   "cell_type": "code",
   "source": [
    "print(data['data'][0][0][0])    # 流量\n",
    "print(data['data'][0][0][1])    # 占用率\n",
    "print(data['data'][0][0][2])    # 车速"
   ],
   "id": "b4ddda0de29736de",
   "outputs": [
    {
     "name": "stdout",
     "output_type": "stream",
     "text": [
      "62.0\n",
      "0.0077\n",
      "67.9\n"
     ]
    }
   ],
   "execution_count": 5
  },
  {
   "metadata": {
    "ExecuteTime": {
     "end_time": "2024-12-11T14:34:17.225317Z",
     "start_time": "2024-12-11T14:34:17.219255Z"
    }
   },
   "cell_type": "code",
   "source": [
    "import numpy as np\n",
    "\n",
    "data = np.load('data/PEMS04/PEMS04_r1_d0_w0_astcgn.npz')\n",
    "keys = list(data.keys())\n",
    "print(keys)"
   ],
   "id": "304007bb55555149",
   "outputs": [
    {
     "name": "stdout",
     "output_type": "stream",
     "text": [
      "['train_x', 'train_target', 'train_timestamp', 'val_x', 'val_target', 'val_timestamp', 'test_x', 'test_target', 'test_timestamp', 'mean', 'std']\n"
     ]
    }
   ],
   "execution_count": 15
  },
  {
   "metadata": {
    "ExecuteTime": {
     "end_time": "2024-12-12T11:08:53.969408Z",
     "start_time": "2024-12-12T11:08:52.190154Z"
    }
   },
   "cell_type": "code",
   "source": [
    "import pandas as pd\n",
    "\n",
    "# 读取 CSV 文件\n",
    "csv_file = 'data/PEMS04/PEMS04.csv'  # 替换为你的 CSV 文件路径\n",
    "df = pd.read_csv(csv_file)\n",
    "\n",
    "# 将 DataFrame 保存为 Excel 文件\n",
    "excel_file = './PEMS04.xlsx'  # 输出的 Excel 文件路径\n",
    "df.to_excel(excel_file, index=False)  # `index=False` 表示不保存行索引\n"
   ],
   "id": "c5b15d7a35278d7d",
   "outputs": [],
   "execution_count": 1
  }
 ],
 "metadata": {
  "kernelspec": {
   "display_name": "Python 3",
   "language": "python",
   "name": "python3"
  },
  "language_info": {
   "codemirror_mode": {
    "name": "ipython",
    "version": 2
   },
   "file_extension": ".py",
   "mimetype": "text/x-python",
   "name": "python",
   "nbconvert_exporter": "python",
   "pygments_lexer": "ipython2",
   "version": "2.7.6"
  }
 },
 "nbformat": 4,
 "nbformat_minor": 5
}
